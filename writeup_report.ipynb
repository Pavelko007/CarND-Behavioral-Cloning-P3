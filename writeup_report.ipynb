{
 "cells": [
  {
   "cell_type": "markdown",
   "metadata": {},
   "source": [
    "# **Behavioral Cloning** \n",
    "\n",
    "## Writeup \n",
    "\n",
    "---"
   ]
  },
  {
   "cell_type": "markdown",
   "metadata": {},
   "source": [
    "**Behavioral Cloning Project**\n",
    "\n",
    "The goals / steps of this project are the following:\n",
    "* Use the simulator to collect data of good driving behavior\n",
    "* Build, a convolution neural network in Keras that predicts steering angles from images\n",
    "* Train and validate the model with a training and validation set\n",
    "* Test that the model successfully drives around track one without leaving the road\n",
    "* Summarize the results with a written report\n"
   ]
  },
  {
   "cell_type": "markdown",
   "metadata": {},
   "source": [
    "## Rubric Points\n",
    "### Here I will consider the [rubric points](https://review.udacity.com/#!/rubrics/432/view) individually and describe how I addressed each point in my implementation.  \n"
   ]
  },
  {
   "cell_type": "markdown",
   "metadata": {},
   "source": [
    "---\n",
    "### Files Submitted & Code Quality\n"
   ]
  },
  {
   "cell_type": "markdown",
   "metadata": {},
   "source": [
    "#### 1. Submission includes all required files and can be used to run the simulator in autonomous mode\n",
    "\n",
    "My project includes the following files:\n",
    "* model.py containing the script to create and train the model\n",
    "* drive.py for driving the car in autonomous mode\n",
    "* model.h5 containing a trained convolution neural network \n",
    "* writeup_report.md summarizing the results"
   ]
  },
  {
   "cell_type": "markdown",
   "metadata": {},
   "source": [
    "#### 2. Submission includes functional code\n",
    "Using the Udacity provided simulator and my drive.py file, the car can be driven autonomously around the track by executing \n",
    "```sh\n",
    "python drive.py model.h5\n",
    "```\n"
   ]
  },
  {
   "cell_type": "markdown",
   "metadata": {},
   "source": [
    "#### 3. Submission code is usable and readable\n",
    "\n",
    "The model.py file contains the code for training and saving the convolution neural network. The file shows the pipeline I used for training and validating the model, and it contains comments to explain how the code works.\n"
   ]
  },
  {
   "cell_type": "markdown",
   "metadata": {},
   "source": [
    "### Model Architecture and Training Strategy\n"
   ]
  },
  {
   "cell_type": "markdown",
   "metadata": {},
   "source": [
    "#### 1. An appropriate model architecture has been employed\n",
    "\n",
    "My model consists of a convolution neural network with 3x3 and 5x5 filter sizes and depths between 24 and 64 (model.py lines 77-81) \n",
    "\n",
    "The model includes RELU layers to introduce nonlinearity, and the data is normalized in the model using a Keras lambda layer (code line 69). "
   ]
  },
  {
   "cell_type": "markdown",
   "metadata": {},
   "source": [
    "#### 2. Attempts to reduce overfitting in the model\n",
    "\n",
    "The model was trained and validated on different data sets to ensure that the model was not overfitting (code line 16). The model was tested by running it through the simulator and ensuring that the vehicle could stay on the track. I added dropout layers and used activation functions in order to decrease overfitting.(lines 84-92)"
   ]
  },
  {
   "cell_type": "markdown",
   "metadata": {},
   "source": [
    "#### 3. Model parameter tuning\n",
    "\n",
    "The model used an adam optimizer, so the learning rate was not tuned manually (model.py line 94).\n"
   ]
  },
  {
   "cell_type": "markdown",
   "metadata": {},
   "source": [
    "#### 4. Appropriate training data\n",
    "\n",
    "Training data was chosen to keep the vehicle driving on the road. I used a sample data provided."
   ]
  },
  {
   "cell_type": "markdown",
   "metadata": {},
   "source": [
    "### Architecture and Training Documentation"
   ]
  },
  {
   "cell_type": "markdown",
   "metadata": {},
   "source": [
    "\n",
    "#### 1. Solution Design Approach\n",
    "\n",
    "The overall strategy for deriving a model architecture was to was to use multilayer convolutinal network complex enough to learn hierarchy of road features sufficient to make steering predictions.\n",
    "\n",
    "I use a convolution neural network model developed by nvidia architecture, because it was suggested in the course.\n",
    "\n",
    "In order to gauge how well the model was working, I split my image and steering angle data into a training and validation set. I found that my first model had a low mean squared error on the training set but a high mean squared error on the validation set. This implied that the model was overfitting. \n",
    "\n",
    "To combat the overfitting I extendet the data by generating new samples. I mirrored the images and used images from left or right cameras at random, adjusting steering appropriately. \n",
    "\n",
    "The final step was to run the simulator to see how well the car was driving around track one. \n",
    "\n",
    "At the end of the process, the vehicle is able to drive autonomously around the track without leaving the road.\n"
   ]
  },
  {
   "cell_type": "markdown",
   "metadata": {},
   "source": [
    "#### 2. Final Model Architecture\n",
    "\n",
    "The final model architecture (model.py lines 73-92) consisted of a convolution neural network with the following layers and layer sizes:\n",
    "\n",
    "* Lambda layer for preprocessing\n",
    "* Cropping2D layer \n",
    "* Convolution2D with filter size 5x5, and depth 24\n",
    "* Convolution2D with filter size 5x5, and depth 36\n",
    "* Convolution2D with filter size 5x5, and depth 48\n",
    "* Convolution2D with filter size 3x3, and depth 64\n",
    "* Convolution2D with filter size 3x3, and depth 64\n",
    "* Flatten layer\n",
    "* Fully connected size 1164\n",
    "* Dropout\n",
    "* Fully connected size 100\n",
    "* Dropout\n",
    "* Fully connected size 50\n",
    "* Dropout\n",
    "* Fully connected size 10\n",
    "* Dropout\n",
    "* Fully connected size 1"
   ]
  },
  {
   "cell_type": "markdown",
   "metadata": {},
   "source": [
    "#### 3. Creation of the Training Set & Training Process\n",
    "\n",
    "To capture good driving behavior, I first recorded two laps on track one using center lane driving. Here is an example image of center lane driving:\n",
    "\n",
    "![alt text](./examples/center lane driving.jpg)\n",
    "\n",
    "I then recorded the vehicle recovering from the left side and right sides of the road back to center so that the vehicle would learn to drive toward center of the road. These images show what a recovery looks like starting from right side :\n",
    "\n",
    "![alt text](./examples/recovering1.jpg)\n",
    "![alt text](./examples/recovering2.jpg)\n",
    "![alt text](./examples/recovering3.jpg)\n",
    "\n",
    "\n",
    "To augment the dataset, I also flipped images and angles thinking that this would be equivalent to driving on a different track. For example, here is an image that has then been flipped:\n",
    "\n",
    "![alt text](./examples/original.jpg)\n",
    "![alt text](./examples/flipped.jpg)\n",
    "\n",
    "I used images from left and right camera, choosing randomly between them, in addition to central camera images,this helped to decrease the number of steering angles close to zero. Angles close to zero are very common so decreasing their frequency should improve date variability. \n",
    "\n",
    "After the collection process, I had 8036 data points.\n",
    "\n",
    "I finally randomly shuffled the dataset and put 20% of the data into a validation set. \n",
    "\n",
    "I used this training data for training the model. The validation set helped determine if the model was over or under fitting. I trained the model for 10 epochs. I used an adam optimizer so that manually training the learning rate wasn't necessary."
   ]
  },
  {
   "cell_type": "code",
   "execution_count": null,
   "metadata": {},
   "outputs": [],
   "source": []
  }
 ],
 "metadata": {
  "kernelspec": {
   "display_name": "Python 3",
   "language": "python",
   "name": "python3"
  },
  "language_info": {
   "codemirror_mode": {
    "name": "ipython",
    "version": 3
   },
   "file_extension": ".py",
   "mimetype": "text/x-python",
   "name": "python",
   "nbconvert_exporter": "python",
   "pygments_lexer": "ipython3",
   "version": "3.5.2"
  },
  "widgets": {
   "state": {},
   "version": "1.1.2"
  }
 },
 "nbformat": 4,
 "nbformat_minor": 2
}
